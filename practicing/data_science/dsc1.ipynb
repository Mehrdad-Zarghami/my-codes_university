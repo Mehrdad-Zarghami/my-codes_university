{
 "cells": [
  {
   "cell_type": "code",
   "execution_count": 2,
   "metadata": {},
   "outputs": [],
   "source": [
    "import numpy as np\n",
    "\n",
    "def median_of_array_columns(numbers):\n",
    "    return np.median(numbers, axis=0)\n",
    "    "
   ]
  },
  {
   "cell_type": "code",
   "execution_count": 3,
   "metadata": {},
   "outputs": [
    {
     "name": "stdout",
     "output_type": "stream",
     "text": [
      "3\n"
     ]
    }
   ],
   "source": [
    "mark2 = np.asarray([55, 88, 78, 90, 79, 94]).reshape(2, -1)\n",
    "print('%d' % median_of_array_columns(mark2).shape[0])"
   ]
  },
  {
   "cell_type": "code",
   "execution_count": 4,
   "metadata": {},
   "outputs": [
    {
     "data": {
      "text/plain": [
       "array([[55, 88, 78],\n",
       "       [90, 79, 94]])"
      ]
     },
     "execution_count": 4,
     "metadata": {},
     "output_type": "execute_result"
    }
   ],
   "source": [
    "mark2"
   ]
  },
  {
   "cell_type": "code",
   "execution_count": 6,
   "metadata": {},
   "outputs": [
    {
     "data": {
      "text/plain": [
       "array([72.5, 83.5, 86. ])"
      ]
     },
     "execution_count": 6,
     "metadata": {},
     "output_type": "execute_result"
    }
   ],
   "source": [
    "median_of_array_columns(mark2)"
   ]
  },
  {
   "cell_type": "code",
   "execution_count": 7,
   "metadata": {},
   "outputs": [
    {
     "data": {
      "text/plain": [
       "(3,)"
      ]
     },
     "execution_count": 7,
     "metadata": {},
     "output_type": "execute_result"
    }
   ],
   "source": [
    "median_of_array_columns(mark2).shape"
   ]
  },
  {
   "cell_type": "code",
   "execution_count": 8,
   "metadata": {},
   "outputs": [
    {
     "name": "stdout",
     "output_type": "stream",
     "text": [
      "3\n"
     ]
    }
   ],
   "source": [
    "\t\n",
    "marks = np.asarray([2010522, 2010733, 2010998, 2010135, 2010755, 2010648, 2011840, 2010541, 2010254, 2010691, 2004011, 2010248, 2008576, 2009249, 1900723, 2009490, 2003251, 2010290]).reshape((-1, 3))\n",
    "print('%d' % median_of_array_columns(marks).shape[0])"
   ]
  },
  {
   "cell_type": "code",
   "execution_count": 9,
   "metadata": {},
   "outputs": [
    {
     "data": {
      "text/plain": [
       "array([[2010522, 2010733, 2010998],\n",
       "       [2010135, 2010755, 2010648],\n",
       "       [2011840, 2010541, 2010254],\n",
       "       [2010691, 2004011, 2010248],\n",
       "       [2008576, 2009249, 1900723],\n",
       "       [2009490, 2003251, 2010290]])"
      ]
     },
     "execution_count": 9,
     "metadata": {},
     "output_type": "execute_result"
    }
   ],
   "source": [
    "marks"
   ]
  },
  {
   "cell_type": "code",
   "execution_count": 11,
   "metadata": {},
   "outputs": [
    {
     "data": {
      "text/plain": [
       "array([2010328.5, 2009895. , 2010272. ])"
      ]
     },
     "execution_count": 11,
     "metadata": {},
     "output_type": "execute_result"
    }
   ],
   "source": [
    "median_of_array_columns(marks)"
   ]
  },
  {
   "cell_type": "code",
   "execution_count": 13,
   "metadata": {},
   "outputs": [
    {
     "name": "stdout",
     "output_type": "stream",
     "text": [
      "[[40 15 72 22 43]\n",
      " [82 75  7 34 49]\n",
      " [95 75 85 47 63]\n",
      " [31 90 20 37 39]\n",
      " [67  4 42 51 38]\n",
      " [33 58 67 69 88]\n",
      " [68 46 70 95 83]\n",
      " [31 66 80 52 76]\n",
      " [50  4 90 63 79]\n",
      " [49 39 46  8 50]]\n",
      "[49.5 52.  68.5 49.  56.5]\n",
      "49.00\n"
     ]
    }
   ],
   "source": [
    "\t\n",
    "np.random.seed(2)\n",
    "marks = np.random.randint(0, 101, 50).reshape((10, -1))\n",
    "print(marks)\n",
    "print(median_of_array_columns(marks))\n",
    "print('%.2f' % median_of_array_columns(marks)[3])"
   ]
  },
  {
   "cell_type": "code",
   "execution_count": 14,
   "metadata": {},
   "outputs": [],
   "source": [
    "import numpy as np\n",
    "\n",
    "\n",
    "def policy(p1, p2, p3, p4=0.5):\n",
    "    # p1, p2, p3 are, respectively, the probabilities of choosing between 1, 2, and 3\n",
    "    # the default value for p4 should be 0.5\n",
    "    # action equals 1 with probability p1, 2 with probability p2, and 3 with probability p3\n",
    "    action = np.random.choice([1, 2, 3], p=[p1, p2, p3])\n",
    "    # Depending on the value of 'action', we choose one of the following options:\n",
    "    # if action is 1: return action1()\n",
    "    # if action is 2: return action2()\n",
    "    # if action is 3: make a choice between returning action1() (with probability p4) or action2()\n",
    "    #   i.e.: return action1() with probability p4, and action2() otherwise\n",
    "\n",
    "    ## YOUR CODE HERE\n",
    "    if action == 1:\n",
    "        return action1() # we should add () to call action1 function\n",
    "    elif action == 2:\n",
    "        return action2()\n",
    "    else:\n",
    "        return np.random.choice([action1(), action2()], p=[p4, 1-p4])\n",
    "\n",
    "\n",
    "\n",
    "def action1(p=0.2):\n",
    "    # Return 0 with probability p and 1 otherwise\n",
    "    # the default value for p should be 0.2\n",
    "    \n",
    "    ## YOUR CODE HERE\n",
    "    return np.random.choice([0, 1], p=[p, 1-p])\n",
    "    \n",
    "\n",
    "def action2(p=0.9):\n",
    "    # Return 3 with probability p and -5 otherwise\n",
    "    # the default value for p should be 0.9\n",
    "    \n",
    "    ## YOUR CODE HERE\n",
    "    return np.random.choice([3, -5], p=[p, 1-p])\n",
    "\n"
   ]
  },
  {
   "cell_type": "code",
   "execution_count": 15,
   "metadata": {},
   "outputs": [
    {
     "name": "stdout",
     "output_type": "stream",
     "text": [
      "0.794\n"
     ]
    }
   ],
   "source": [
    "\t\n",
    "np.random.seed(4)\n",
    "# Check default value for p1\n",
    "pulls = [action1() for _ in range(20000)]\n",
    "print('%.3f' % np.mean(pulls))"
   ]
  },
  {
   "cell_type": "code",
   "execution_count": 16,
   "metadata": {},
   "outputs": [
    {
     "name": "stdout",
     "output_type": "stream",
     "text": [
      "2.192\n"
     ]
    }
   ],
   "source": [
    "\t\n",
    "np.random.seed(4)\n",
    "# Check default value for p2\n",
    "pulls = [action2() for _ in range(20000)]\n",
    "print('%.3f' % np.mean(pulls))"
   ]
  },
  {
   "cell_type": "code",
   "execution_count": 17,
   "metadata": {},
   "outputs": [
    {
     "name": "stdout",
     "output_type": "stream",
     "text": [
      "1.501\n"
     ]
    }
   ],
   "source": [
    "\t\n",
    "# Check default value for p4\n",
    "np.random.seed(3)\n",
    "pulls = [policy(0, 0, 1) for _ in range(20000)]\n",
    "print('%.3f' % np.mean(pulls))"
   ]
  },
  {
   "cell_type": "code",
   "execution_count": 18,
   "metadata": {},
   "outputs": [
    {
     "name": "stdout",
     "output_type": "stream",
     "text": [
      "0.944\n"
     ]
    }
   ],
   "source": [
    "# Changing default value for p4\n",
    "np.random.seed(3)\n",
    "pulls = [policy(0, 0, 1, 0.9) for _ in range(20000)]\n",
    "print('%.3f' % np.mean(pulls))"
   ]
  },
  {
   "cell_type": "code",
   "execution_count": null,
   "metadata": {},
   "outputs": [],
   "source": []
  }
 ],
 "metadata": {
  "kernelspec": {
   "display_name": "data_science",
   "language": "python",
   "name": "python3"
  },
  "language_info": {
   "codemirror_mode": {
    "name": "ipython",
    "version": 3
   },
   "file_extension": ".py",
   "mimetype": "text/x-python",
   "name": "python",
   "nbconvert_exporter": "python",
   "pygments_lexer": "ipython3",
   "version": "3.10.9"
  },
  "orig_nbformat": 4,
  "vscode": {
   "interpreter": {
    "hash": "abaa046ae430823a517db6942db74db6a857d7c7c943a29ce1c9c41aa93d74f0"
   }
  }
 },
 "nbformat": 4,
 "nbformat_minor": 2
}
