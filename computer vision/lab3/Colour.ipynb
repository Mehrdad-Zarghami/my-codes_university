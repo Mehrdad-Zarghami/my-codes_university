{
 "cells": [
  {
   "cell_type": "code",
   "execution_count": 1,
   "metadata": {},
   "outputs": [],
   "source": [
    "import sxcv, cv2, numpy\n",
    "\n",
    "ny, nx, nc = 480, 640, 3\n",
    "\n",
    "for c in range (0, nc):\n",
    "    im = numpy.zeros ((ny, nx, nc))\n",
    "    im[:,:,c] = 255\n",
    "    sxcv.display(im, title=\"Channel %d\" % c, delay=2000)"
   ]
  },
  {
   "cell_type": "code",
   "execution_count": 2,
   "metadata": {},
   "outputs": [],
   "source": [
    "# mono_im = cv2.cvtColor(im, cv2.COLOR_BGR2GRAY)"
   ]
  },
  {
   "cell_type": "code",
   "execution_count": 3,
   "metadata": {},
   "outputs": [],
   "source": [
    "def hsv_to_cv2 (h, s, v):\n",
    "    \"\"\"Convert HSV values to the representation used in OpenCV, returning the\n",
    "    result as a tuple for use in cv2.inRange.\n",
    "\n",
    "    Args:\n",
    "        h (float): hue angle in the range zero to 360 degrees\n",
    "        s (float): saturation percentage\n",
    "        v (float): value percentage\n",
    "\n",
    "    Returns:\n",
    "        hsv (tuple): a tuple of values for use with cv2.inRange\n",
    "\n",
    "    Tests:\n",
    "        >>> hsv_to_cv2 (360, 100, 100)\n",
    "        (180, 255, 255)\n",
    "    \"\"\"\n",
    "\n",
    "\n",
    "    cv2_h = round(h/2, 3) \n",
    "    cv2_s = round(s * 2.55, 3)\n",
    "    cv2_v = round(v * 2.55, 3) \n",
    "\n",
    "    return (cv2_h, cv2_s, cv2_v)"
   ]
  },
  {
   "cell_type": "code",
   "execution_count": 4,
   "metadata": {},
   "outputs": [
    {
     "data": {
      "text/plain": [
       "(180.0, 255.0, 255.0)"
      ]
     },
     "execution_count": 4,
     "metadata": {},
     "output_type": "execute_result"
    }
   ],
   "source": [
    "hsv_to_cv2 (360, 100, 100)"
   ]
  },
  {
   "cell_type": "code",
   "execution_count": 5,
   "metadata": {},
   "outputs": [],
   "source": [
    "# bim = cv2.inRange (im, lo_colour, hi_colour)"
   ]
  },
  {
   "cell_type": "code",
   "execution_count": 11,
   "metadata": {},
   "outputs": [],
   "source": [
    "im1 = cv2.imread(\"map.jpg\")\n",
    "sxcv.display (im1)"
   ]
  },
  {
   "cell_type": "code",
   "execution_count": null,
   "metadata": {},
   "outputs": [],
   "source": [
    "im = cv2.imread (\"map.jpg\")\n",
    "hsv_im = cv2.cvtColor (im, cv2.COLOR_BGR2HSV)\n",
    "lo_green = sxcv.hsv_to_cv2 ( 80,  50,  50)\n",
    "hi_green = sxcv.hsv_to_cv2 (140, 100, 100)\n",
    "mask = cv2.inRange (hsv_im, lo_green, hi_green)\n",
    "sxcv.display (mask)\n"
   ]
  },
  {
   "cell_type": "code",
   "execution_count": 12,
   "metadata": {},
   "outputs": [],
   "source": [
    "# segmentation for red color\n",
    "\n",
    "# lower shades of red\n",
    "im = cv2.imread (\"map.jpg\")\n",
    "hsv_im = cv2.cvtColor (im, cv2.COLOR_BGR2HSV)\n",
    "lo_red1 = sxcv.hsv_to_cv2 ( 0,  50,  50)\n",
    "hi_red1 = sxcv.hsv_to_cv2 (20, 100, 100)\n",
    "mask1 = cv2.inRange (hsv_im, lo_red1, hi_red1)\n",
    "sxcv.display (mask1)"
   ]
  },
  {
   "cell_type": "code",
   "execution_count": 13,
   "metadata": {},
   "outputs": [],
   "source": [
    "# upper shades of red\n",
    "im = cv2.imread (\"map.jpg\")\n",
    "hsv_im = cv2.cvtColor (im, cv2.COLOR_BGR2HSV)\n",
    "lo_red2 = sxcv.hsv_to_cv2 ( 340,  50,  50)\n",
    "hi_red2 = sxcv.hsv_to_cv2 (360, 100, 100)\n",
    "mask2 = cv2.inRange (hsv_im, lo_red2, hi_red2)\n",
    "sxcv.display (mask1)"
   ]
  },
  {
   "cell_type": "code",
   "execution_count": 27,
   "metadata": {},
   "outputs": [],
   "source": [
    "# Adding 2 maskes\n",
    "im = cv2.imread (\"map.jpg\")\n",
    "hsv_im = cv2.cvtColor (im, cv2.COLOR_BGR2HSV)\n",
    "lo_red1 = sxcv.hsv_to_cv2 ( 0,  50,  50)\n",
    "hi_red1 = sxcv.hsv_to_cv2 (30, 100, 100)\n",
    "mask1 = cv2.inRange (hsv_im, lo_red1, hi_red1)\n",
    "lo_red2 = sxcv.hsv_to_cv2 ( 330,  50,  50)\n",
    "hi_red2 = sxcv.hsv_to_cv2 (360, 100, 100)\n",
    "mask2 = cv2.inRange (hsv_im, lo_red2, hi_red2)\n",
    "mask_red = mask1 + mask2\n",
    "\n",
    "sxcv.display (im)\n",
    "sxcv.display (mask_red)\n",
    "\n"
   ]
  },
  {
   "cell_type": "code",
   "execution_count": null,
   "metadata": {},
   "outputs": [],
   "source": []
  }
 ],
 "metadata": {
  "kernelspec": {
   "display_name": "Python 3.8.13 64-bit",
   "language": "python",
   "name": "python3"
  },
  "language_info": {
   "codemirror_mode": {
    "name": "ipython",
    "version": 3
   },
   "file_extension": ".py",
   "mimetype": "text/x-python",
   "name": "python",
   "nbconvert_exporter": "python",
   "pygments_lexer": "ipython3",
   "version": "3.8.13"
  },
  "orig_nbformat": 4,
  "vscode": {
   "interpreter": {
    "hash": "6cd7ecbf46b3498f952f614292bd9b98de37d868a382baadab1fa3f5188ed6c2"
   }
  }
 },
 "nbformat": 4,
 "nbformat_minor": 2
}
